{
 "cells": [
  {
   "cell_type": "code",
   "execution_count": null,
   "id": "79aec502",
   "metadata": {},
   "outputs": [],
   "source": [
    "\n",
    "def get_cmc_session():\n",
    "    s = requests.Session()\n",
    "    s.headers.update({\n",
    "        \"Accept\": \"application/json, text/plain, */*\",\n",
    "        \"Content-Type\": \"application/json\",\n",
    "        \"Origin\": \"https://coinmarketcap.com\",\n",
    "        \"Referer\": \"https://coinmarketcap.com/events/\",\n",
    "        \"User-Agent\": (\"Mozilla/5.0 (Windows NT 10.0; Win64; x64) \"\n",
    "                       \"AppleWebKit/537.36 (KHTML, like Gecko) \"\n",
    "                       \"Chrome/139.0.0.0 Safari/537.36\"),\n",
    "        \"Accept-Language\": \"ko-KR,ko;q=0.9,en-US;q=0.8,en;q=0.7\",\n",
    "        \"Platform\": \"web\",\n",
    "    })\n",
    "\n",
    "    # 이벤트 페이지 방문해서 토큰 확보\n",
    "    r = s.get(\"https://coinmarketcap.com/events/\", timeout=5)\n",
    "\n",
    "    csrf = s.cookies.get(\"x-csrf-token\")\n",
    "    if not csrf:\n",
    "        raise RuntimeError(\"x-csrf-token을 못 가져왔습니다. 응답 확인 필요\")\n",
    "\n",
    "    # 헤더와 쿠키 둘 다 반영\n",
    "    s.headers[\"x-csrf-token\"] = csrf\n",
    "    s.cookies.set(\"x-csrf-token\", csrf, domain=\".coinmarketcap.com\")\n",
    "\n",
    "    return s\n",
    "\n",
    "# 사용 예시\n",
    "if __name__ == \"__main__\":\n",
    "    session = get_cmc_session()\n",
    "    print(\"CSRF token:\", session.headers[\"x-csrf-token\"])\n"
   ]
  },
  {
   "cell_type": "code",
   "execution_count": null,
   "id": "26af523c",
   "metadata": {},
   "outputs": [],
   "source": []
  },
  {
   "cell_type": "code",
   "execution_count": 1,
   "id": "f11afffa",
   "metadata": {},
   "outputs": [],
   "source": [
    "import requests"
   ]
  },
  {
   "cell_type": "code",
   "execution_count": 3,
   "id": "8fa0a7c1",
   "metadata": {},
   "outputs": [],
   "source": [
    "s = requests.Session()\n",
    "s.headers.update({\n",
    "    \"Accept\": \"application/json, text/plain, */*\",\n",
    "    \"Content-Type\": \"application/json\",\n",
    "    \"Origin\": \"https://coinmarketcap.com\",\n",
    "    \"Referer\": \"https://coinmarketcap.com/events/\",\n",
    "    \"User-Agent\": (\"Mozilla/5.0 (Windows NT 10.0; Win64; x64) \"\n",
    "                    \"AppleWebKit/537.36 (KHTML, like Gecko) \"\n",
    "                    \"Chrome/139.0.0.0 Safari/537.36\"),\n",
    "    \"Accept-Language\": \"ko-KR,ko;q=0.9,en-US;q=0.8,en;q=0.7\",\n",
    "    \"Platform\": \"web\",\n",
    "})"
   ]
  },
  {
   "cell_type": "code",
   "execution_count": 4,
   "id": "ec4c6ab6",
   "metadata": {},
   "outputs": [],
   "source": [
    "# 이벤트 페이지 방문해서 토큰 확보\n",
    "r = s.get(\"https://coinmarketcap.com/events/\", timeout=5)\n",
    "\n",
    "csrf = s.cookies.get(\"x-csrf-token\")"
   ]
  },
  {
   "cell_type": "code",
   "execution_count": 7,
   "id": "3624cd7f",
   "metadata": {},
   "outputs": [
    {
     "data": {
      "text/plain": [
       "<RequestsCookieJar[]>"
      ]
     },
     "execution_count": 7,
     "metadata": {},
     "output_type": "execute_result"
    }
   ],
   "source": [
    "s.cookies"
   ]
  },
  {
   "cell_type": "code",
   "execution_count": 8,
   "id": "9f18ede1",
   "metadata": {},
   "outputs": [
    {
     "name": "stdout",
     "output_type": "stream",
     "text": [
      "[home] status=200\n",
      "Set-Cookie: None\n",
      "Cookies: {}\n",
      "[events] status=200\n",
      "Set-Cookie: None\n",
      "Cookies: {}\n",
      "x-csrf-token = None\n"
     ]
    }
   ],
   "source": [
    "import requests\n",
    "\n",
    "s = requests.Session()\n",
    "s.headers.update({\n",
    "    \"Accept\": \"text/html,application/xhtml+xml,application/xml;q=0.9,*/*;q=0.8\",\n",
    "    \"Accept-Language\": \"ko-KR,ko;q=0.9,en-US;q=0.8,en;q=0.7\",\n",
    "    \"Cache-Control\": \"no-cache\",\n",
    "    \"Pragma\": \"no-cache\",\n",
    "    \"User-Agent\": (\"Mozilla/5.0 (Windows NT 10.0; Win64; x64) \"\n",
    "                   \"AppleWebKit/537.36 (KHTML, like Gecko) \"\n",
    "                   \"Chrome/139.0.0.0 Safari/537.36\"),\n",
    "    \"Upgrade-Insecure-Requests\": \"1\",\n",
    "    # client hints & fetch metadata\n",
    "    \"sec-ch-ua\": '\"Not;A=Brand\";v=\"99\", \"Google Chrome\";v=\"139\", \"Chromium\";v=\"139\"',\n",
    "    \"sec-ch-ua-mobile\": \"?0\",\n",
    "    \"sec-ch-ua-platform\": '\"Windows\"',\n",
    "    \"sec-fetch-dest\": \"document\",\n",
    "    \"sec-fetch-mode\": \"navigate\",\n",
    "    \"sec-fetch-site\": \"none\",\n",
    "    \"sec-fetch-user\": \"?1\",\n",
    "})\n",
    "\n",
    "def show(resp, tag):\n",
    "    print(f\"[{tag}] status={resp.status_code}\")\n",
    "    print(\"Set-Cookie:\", resp.headers.get(\"Set-Cookie\"))\n",
    "    print(\"Cookies:\", s.cookies.get_dict())\n",
    "\n",
    "r1 = s.get(\"https://coinmarketcap.com/\", timeout=10, allow_redirects=True)\n",
    "show(r1, \"home\")\n",
    "\n",
    "# 새 페이지에서 fetch 메타데이터를 cross-site 로 맞춤\n",
    "s.headers.update({\n",
    "    \"Referer\": \"https://coinmarketcap.com/\",\n",
    "    \"Origin\": \"https://coinmarketcap.com\",\n",
    "    \"sec-fetch-site\": \"same-origin\",\n",
    "    \"sec-fetch-mode\": \"navigate\",\n",
    "    \"sec-fetch-dest\": \"document\",\n",
    "})\n",
    "\n",
    "r2 = s.get(\"https://coinmarketcap.com/events/\", timeout=10, allow_redirects=True)\n",
    "show(r2, \"events\")\n",
    "\n",
    "csrf = s.cookies.get(\"x-csrf-token\")\n",
    "print(\"x-csrf-token =\", csrf)\n"
   ]
  },
  {
   "cell_type": "code",
   "execution_count": 2,
   "id": "1ea48a4b",
   "metadata": {},
   "outputs": [
    {
     "ename": "RuntimeError",
     "evalue": "asyncio.run() cannot be called from a running event loop",
     "output_type": "error",
     "traceback": [
      "\u001b[1;31m---------------------------------------------------------------------------\u001b[0m",
      "\u001b[1;31mRuntimeError\u001b[0m                              Traceback (most recent call last)",
      "Cell \u001b[1;32mIn[2], line 53\u001b[0m\n\u001b[0;32m     50\u001b[0m     r \u001b[38;5;241m=\u001b[39m s\u001b[38;5;241m.\u001b[39mpost(\u001b[38;5;124m\"\u001b[39m\u001b[38;5;124mhttps://api.coinmarketcap.com/data-api/v3/calendar/query\u001b[39m\u001b[38;5;124m\"\u001b[39m, json\u001b[38;5;241m=\u001b[39mpayload, timeout\u001b[38;5;241m=\u001b[39m\u001b[38;5;241m20\u001b[39m)\n\u001b[0;32m     51\u001b[0m     \u001b[38;5;28mprint\u001b[39m(r\u001b[38;5;241m.\u001b[39mstatus_code, r\u001b[38;5;241m.\u001b[39mtext[:\u001b[38;5;241m500\u001b[39m])\n\u001b[1;32m---> 53\u001b[0m asyncio\u001b[38;5;241m.\u001b[39mrun(main())\n",
      "File \u001b[1;32mc:\\Users\\slaye\\anaconda3\\Lib\\asyncio\\runners.py:190\u001b[0m, in \u001b[0;36mrun\u001b[1;34m(main, debug, loop_factory)\u001b[0m\n\u001b[0;32m    161\u001b[0m \u001b[38;5;250m\u001b[39m\u001b[38;5;124;03m\"\"\"Execute the coroutine and return the result.\u001b[39;00m\n\u001b[0;32m    162\u001b[0m \n\u001b[0;32m    163\u001b[0m \u001b[38;5;124;03mThis function runs the passed coroutine, taking care of\u001b[39;00m\n\u001b[1;32m   (...)\u001b[0m\n\u001b[0;32m    186\u001b[0m \u001b[38;5;124;03m    asyncio.run(main())\u001b[39;00m\n\u001b[0;32m    187\u001b[0m \u001b[38;5;124;03m\"\"\"\u001b[39;00m\n\u001b[0;32m    188\u001b[0m \u001b[38;5;28;01mif\u001b[39;00m events\u001b[38;5;241m.\u001b[39m_get_running_loop() \u001b[38;5;129;01mis\u001b[39;00m \u001b[38;5;129;01mnot\u001b[39;00m \u001b[38;5;28;01mNone\u001b[39;00m:\n\u001b[0;32m    189\u001b[0m     \u001b[38;5;66;03m# fail fast with short traceback\u001b[39;00m\n\u001b[1;32m--> 190\u001b[0m     \u001b[38;5;28;01mraise\u001b[39;00m \u001b[38;5;167;01mRuntimeError\u001b[39;00m(\n\u001b[0;32m    191\u001b[0m         \u001b[38;5;124m\"\u001b[39m\u001b[38;5;124masyncio.run() cannot be called from a running event loop\u001b[39m\u001b[38;5;124m\"\u001b[39m)\n\u001b[0;32m    193\u001b[0m \u001b[38;5;28;01mwith\u001b[39;00m Runner(debug\u001b[38;5;241m=\u001b[39mdebug, loop_factory\u001b[38;5;241m=\u001b[39mloop_factory) \u001b[38;5;28;01mas\u001b[39;00m runner:\n\u001b[0;32m    194\u001b[0m     \u001b[38;5;28;01mreturn\u001b[39;00m runner\u001b[38;5;241m.\u001b[39mrun(main)\n",
      "\u001b[1;31mRuntimeError\u001b[0m: asyncio.run() cannot be called from a running event loop"
     ]
    }
   ],
   "source": [
    "# pip install playwright requests\n",
    "# python -m playwright install chromium\n",
    "import asyncio, requests, json\n",
    "from playwright.async_api import async_playwright\n",
    "\n",
    "STORAGE=\"cmc_storage.json\"\n",
    "\n",
    "async def harvest():\n",
    "    async with async_playwright() as pw:\n",
    "        browser = await pw.chromium.launch(headless=True)\n",
    "        ctx = await browser.new_context(storage_state=STORAGE if False else None,\n",
    "                                        user_agent=(\"Mozilla/5.0 (Windows NT 10.0; Win64; x64) \"\n",
    "                                                    \"AppleWebKit/537.36 (KHTML, like Gecko) \"\n",
    "                                                    \"Chrome/139.0.0.0 Safari/537.36\"))\n",
    "        page = await ctx.new_page()\n",
    "        await page.goto(\"https://coinmarketcap.com/events/\", wait_until=\"domcontentloaded\")\n",
    "        # JS로 쿠키 세팅될 시간을 약간 줌\n",
    "        await page.wait_for_timeout(2000)\n",
    "        state = await ctx.storage_state(path=STORAGE)  # 상태 저장\n",
    "        await browser.close()\n",
    "        return json.loads(state)[\"cookies\"]\n",
    "\n",
    "def requests_session_from_cookies(cookies):\n",
    "    s = requests.Session()\n",
    "    for c in cookies:\n",
    "        s.cookies.set(c[\"name\"], c[\"value\"], domain=c.get(\"domain\") or \".coinmarketcap.com\")\n",
    "    return s\n",
    "\n",
    "async def main():\n",
    "    cookies = await harvest()\n",
    "    s = requests_session_from_cookies(cookies)\n",
    "    csrf = s.cookies.get(\"x-csrf-token\")\n",
    "    if not csrf:\n",
    "        raise RuntimeError(\"x-csrf-token이 여전히 없습니다. (안티봇/캡차 가능성)\")\n",
    "\n",
    "    s.headers.update({\n",
    "        \"Accept\": \"application/json, text/plain, */*\",\n",
    "        \"Content-Type\": \"application/json\",\n",
    "        \"Origin\": \"https://coinmarketcap.com\",\n",
    "        \"Referer\": \"https://coinmarketcap.com/events/\",\n",
    "        \"User-Agent\": (\"Mozilla/5.0 (Windows NT 10.0; Win64; x64) \"\n",
    "                       \"AppleWebKit/537.36 (KHTML, like Gecko) \"\n",
    "                       \"Chrome/139.0.0.0 Safari/537.36\"),\n",
    "        \"Accept-Language\": \"ko-KR,ko;q=0.9,en-US;q=0.8,en;q=0.7\",\n",
    "        \"Platform\": \"web\",\n",
    "        \"x-csrf-token\": csrf,\n",
    "    })\n",
    "\n",
    "    payload = {\"startDate\":\"2025-09-10\",\"endDate\":\"2025-09-24\",\"page\":1,\"size\":20}\n",
    "    r = s.post(\"https://api.coinmarketcap.com/data-api/v3/calendar/query\", json=payload, timeout=20)\n",
    "    print(r.status_code, r.text[:500])\n",
    "\n",
    "asyncio.run(main())\n"
   ]
  },
  {
   "cell_type": "code",
   "execution_count": null,
   "id": "fa474037",
   "metadata": {},
   "outputs": [],
   "source": []
  }
 ],
 "metadata": {
  "kernelspec": {
   "display_name": "base",
   "language": "python",
   "name": "python3"
  },
  "language_info": {
   "codemirror_mode": {
    "name": "ipython",
    "version": 3
   },
   "file_extension": ".py",
   "mimetype": "text/x-python",
   "name": "python",
   "nbconvert_exporter": "python",
   "pygments_lexer": "ipython3",
   "version": "3.12.4"
  }
 },
 "nbformat": 4,
 "nbformat_minor": 5
}
